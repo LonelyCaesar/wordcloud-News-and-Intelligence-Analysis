{
 "cells": [
  {
   "cell_type": "code",
   "execution_count": null,
   "id": "2edff62e",
   "metadata": {},
   "outputs": [],
   "source": [
    "#程式\n",
    "%matplotlib inline\n",
    "from PIL import Image\n",
    "import matplotlib.pyplot as plt\n",
    "from wordcloud import WordCloud\n",
    "import jieba\n",
    "import numpy as np\n",
    "from collections import Counter\n",
    "# 如果檔案內有一些編碼錯誤，使用 errors='ignore' 來忽略錯誤\n",
    "with open(\"財經_房地產_1.txt\", encoding=\"Utf-8\", errors='ignore') as f: text = f.read()\n",
    "\n",
    "# 設定使用 big5 斷詞\n",
    "jieba.set_dictionary('./dict.txt.big')\n",
    "wordlist = jieba.cut(text)\n",
    "words = \" \".join(wordlist)\n",
    "\n",
    "# 從 Google 下載的中文字型\n",
    "font = 'SourceHanSansTW-Regular.otf'\n",
    "\n",
    "#背景顏色預設黑色，改為白色、使用指定圖形、使用指定字體(一般文字雲)\n",
    "#my_wordcloud = WordCloud(background_color='white',font_path=font).generate(words)\n",
    "\n",
    "#文字雲造型圖片\n",
    "mask = np.array(Image.open('Python-Symbol.png')) #文字雲形狀\n",
    "\n",
    "#背景顏色預設黑色，改為白色、使用指定圖形、使用指定字體\n",
    "my_wordcloud = WordCloud(background_color='white',mask=mask,font_path=font).generate(words)\n",
    "\n",
    "#產生圖片\n",
    "plt.figure(figsize=(6,6))\n",
    "plt.imshow(my_wordcloud)\n",
    "plt.axis(\"off\")\n",
    "plt.show()\n",
    "#存檔\n",
    "my_wordcloud.to_file('word_cloud.png')"
   ]
  }
 ],
 "metadata": {
  "kernelspec": {
   "display_name": "Python 3 (ipykernel)",
   "language": "python",
   "name": "python3"
  },
  "language_info": {
   "codemirror_mode": {
    "name": "ipython",
    "version": 3
   },
   "file_extension": ".py",
   "mimetype": "text/x-python",
   "name": "python",
   "nbconvert_exporter": "python",
   "pygments_lexer": "ipython3",
   "version": "3.8.18"
  }
 },
 "nbformat": 4,
 "nbformat_minor": 5
}
